{
 "cells": [
  {
   "cell_type": "code",
   "execution_count": 1,
   "id": "c9032bf5",
   "metadata": {},
   "outputs": [],
   "source": [
    "from joblib import load\n",
    "import numpy as np\n",
    "model=load('PricePrediction.joblib')"
   ]
  },
  {
   "cell_type": "code",
   "execution_count": 5,
   "id": "01498c35",
   "metadata": {},
   "outputs": [],
   "source": [
    "features= np.array([[0.7842, 0, 8.14, 0, 0.538, 8.99, 81.7, 4.2579, 4, 307, 21, 386.75, 14.67, 17.5]])"
   ]
  },
  {
   "cell_type": "code",
   "execution_count": 6,
   "id": "55944726",
   "metadata": {},
   "outputs": [
    {
     "data": {
      "text/plain": [
       "array([31.642])"
      ]
     },
     "execution_count": 6,
     "metadata": {},
     "output_type": "execute_result"
    }
   ],
   "source": [
    "model.predict(features)"
   ]
  },
  {
   "cell_type": "code",
   "execution_count": null,
   "id": "d7081d7b",
   "metadata": {},
   "outputs": [],
   "source": []
  }
 ],
 "metadata": {
  "kernelspec": {
   "display_name": "Python 3",
   "language": "python",
   "name": "python3"
  },
  "language_info": {
   "codemirror_mode": {
    "name": "ipython",
    "version": 3
   },
   "file_extension": ".py",
   "mimetype": "text/x-python",
   "name": "python",
   "nbconvert_exporter": "python",
   "pygments_lexer": "ipython3",
   "version": "3.7.3"
  }
 },
 "nbformat": 4,
 "nbformat_minor": 5
}
