{
 "cells": [
  {
   "cell_type": "markdown",
   "id": "5c9615aa",
   "metadata": {},
   "source": [
    "## AI vs DS vs ML vs DL\n",
    "\n",
    "\n",
    "All are comes under AI\n",
    "AI application is able to do it own task without human intervention, so these all come under AI\n",
    "\n",
    "Like- Youtube Recommendation etc........\n",
    "\n",
    "\n",
    "\n",
    "## Machine Learning : \n",
    "                                1) Supervised   ==> a) Regression              b) Classification\n",
    "                                2) Unsupervised ==> a) Clustering(Grouping)    b) Dimensionality Reduction\n",
    "                                3) Reinforcement ==> This will discuss later\n",
    "                                \n",
    "                                \n",
    "### Supervised Learning:\n",
    "\n",
    "In this tech we have Independent and dependent feature both(like we can say we learning with feature)\n",
    "\n",
    "\n",
    "**Regression**----------------  When we need to predict the continuous value.\n",
    "                                Like- Predicting the price of House(so it will be continuous)\n",
    "                            \n",
    "\n",
    "**Classification**------------  Here we predict the result\n",
    "                                Like- Prediction the result-- Pass/Fail  (This come under Binary Classification)\n",
    "\n",
    "                                \n",
    "\n",
    "\n",
    "### Unsupervised Learning\n",
    "\n",
    "Here we have Independent feature only\n",
    "\n",
    "**Clustering**---------------   Here we focus on clustering the groups, or we can say it as grouping\n",
    "                                Like- A basket have multiple fruits so we group them as per their characterstics\n",
    "                                \n",
    "\n",
    "**Dimensionality Reduction**--- Here we dudect the Features\n",
    "                                Like-- we have 1000 feature then we will try to make it low(like 100)\n",
    "                                \n",
    "\n"
   ]
  },
  {
   "cell_type": "markdown",
   "id": "cc0769c5",
   "metadata": {},
   "source": [
    "##                                                     Linear Regression\n",
    "\n",
    "\n",
    "Linear Regression is all about to find a best fit line\n",
    "\n",
    "Equation======>     y=mx+c     \n",
    "\n",
    "By this formula we try to get multiple point and on behalf of that point we create a Gradient Descent Graph\n",
    "\n",
    "From this graph our aim is to find the Global Minima\n",
    "\n",
    "In order to find the Global Minima we use Convergence algorithm.\n",
    "\n",
    "With some learning rate we come to Global Minima and that will be our best line\n",
    "\n",
    "\n",
    "\n",
    "\n",
    "Qus : Is this stuck in Local minima and Global minima?\n",
    "No, Convergence algorithm is created in such a way so that it will not stuck in any Local minima. But in deep leaning it will stuck for that we will use multiple kind of algorithm.\n",
    "\n",
    "\n",
    "\n",
    "\n"
   ]
  },
  {
   "cell_type": "markdown",
   "id": "e2b51126",
   "metadata": {},
   "source": [
    "## Performance Matrix: \n",
    "\n",
    "Let's discuss about 2 matrix: \n",
    "            1) R Square\n",
    "            2) Adjusted R Square\n",
    "            \n",
    "We use these matrix to check the performance of our model.\n",
    "\n",
    "**Check Copy................**\n",
    "\n",
    "\n",
    "\n",
    "ImpPoint:  R Sqaure formula is created in such a way that even if you add a non-corelative feature to the dataset then this will increase the accuracy. But it should not\n",
    "\n",
    "So here Adjusted R Square come into the role.\n",
    "\n",
    "\n",
    "\n",
    "\n",
    "            "
   ]
  },
  {
   "cell_type": "code",
   "execution_count": null,
   "id": "d3071fbb",
   "metadata": {},
   "outputs": [],
   "source": []
  },
  {
   "cell_type": "code",
   "execution_count": null,
   "id": "2f0d4406",
   "metadata": {},
   "outputs": [],
   "source": []
  }
 ],
 "metadata": {
  "kernelspec": {
   "display_name": "Python 3",
   "language": "python",
   "name": "python3"
  },
  "language_info": {
   "codemirror_mode": {
    "name": "ipython",
    "version": 3
   },
   "file_extension": ".py",
   "mimetype": "text/x-python",
   "name": "python",
   "nbconvert_exporter": "python",
   "pygments_lexer": "ipython3",
   "version": "3.7.3"
  }
 },
 "nbformat": 4,
 "nbformat_minor": 5
}
