{
 "cells": [
  {
   "cell_type": "markdown",
   "id": "a2ae1685",
   "metadata": {},
   "source": [
    "## Agenda-\n",
    "\n",
    "1) Ridge and Lasso Regression\n",
    "2) Assumption of Linear Regression\n",
    "3) Logistic Regression\n",
    "4) Confusion Matrix(Precision, Recall, F-Score)\n"
   ]
  },
  {
   "cell_type": "markdown",
   "id": "710a4bd6",
   "metadata": {},
   "source": [
    "##                              Ridge and Lasso Regression\n",
    "\n",
    "By applying cost function in Linerar Regression our main aim is to reduce the Cost value\n",
    "But make sure when we try to reduce then it should not become zero as it leads to the overfitting and underfitting\n",
    "\n",
    "**Overfitting :**\n",
    "Model Perform well on training data          BUT             not able to perform good on test data\n",
    "Low Bias                                                               High Variance\n",
    "\n",
    "\n",
    "\n",
    "**Underfitting :**\n",
    "Model gives bad accuracy on Training Data    AND              also giving bad accuracy on test data\n",
    "High Bias                                                              High Variance\n",
    "\n",
    "\n",
    "Then to recover from these issue we use Ridge and Lasso Regression\n",
    "\n",
    "\n",
    "\n",
    "### Ridge Regression(L2 Regulization):\n",
    "It adds a unique parameter lambda\n",
    "\n",
    "\n",
    "(y_hat - y)**2 + lambda(slope)**2\n",
    "\n",
    "\n",
    "\n",
    "\n",
    "\n",
    "\n",
    "### Lasso Regulization\n",
    "Lasso helps in two ways:\n",
    "        1) Prevent Overfitting\n",
    "        2) Feature Selection\n",
    "        \n",
    "        \n",
    "        \n",
    "\n",
    "\n"
   ]
  },
  {
   "cell_type": "markdown",
   "id": "206a86a5",
   "metadata": {},
   "source": [
    "##                                   Assumption of Liner Regression\n",
    "\n",
    "\n",
    "\n",
    "1) Feature should be Normal/Gaussian Distributed then it will gives you better result\n",
    "If not Gaussian dist then we will try to transform them into gaussian dist\n",
    "\n",
    "\n",
    "2) Always perform Standardization(Scaling by z-score)\n",
    "\n",
    "3) Works wll if data is following linear property\n",
    "\n",
    "4) Need tochek multi-colinarity\n",
    "\n",
    "\n"
   ]
  },
  {
   "cell_type": "markdown",
   "id": "412a6fd2",
   "metadata": {},
   "source": [
    "##                                Logistic Regression\n",
    "\n",
    "Qus: Is this an classification or regression algo?\n",
    "It's an Classification algorithm, As iot gives you probablity so it names is given as regression\n",
    "\n",
    "\n",
    "\n",
    "### Why do we need Logistic Reg even if we have Linear Reg:?\n",
    "\n",
    "In lineAR reg. there is no boundary for output whereas in Logistic it have the limit(from 0 to 1)\n",
    "\n",
    "\n",
    "When outlier comes in linear then it will fails in classifying.\n",
    "\n",
    "\n",
    "\n",
    "\n",
    "So for removing these we use the Sigmoid function\n",
    "\n",
    "\n",
    "\n",
    "Copy\n",
    "\n",
    "\n",
    "\n",
    "\n",
    "\n"
   ]
  },
  {
   "cell_type": "code",
   "execution_count": null,
   "id": "6c853024",
   "metadata": {},
   "outputs": [],
   "source": [
    "### Performace Matrix\n",
    "Copy"
   ]
  },
  {
   "cell_type": "code",
   "execution_count": null,
   "id": "4021e43b",
   "metadata": {},
   "outputs": [],
   "source": []
  }
 ],
 "metadata": {
  "kernelspec": {
   "display_name": "Python 3",
   "language": "python",
   "name": "python3"
  },
  "language_info": {
   "codemirror_mode": {
    "name": "ipython",
    "version": 3
   },
   "file_extension": ".py",
   "mimetype": "text/x-python",
   "name": "python",
   "nbconvert_exporter": "python",
   "pygments_lexer": "ipython3",
   "version": "3.7.3"
  }
 },
 "nbformat": 4,
 "nbformat_minor": 5
}
